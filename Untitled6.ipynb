{
  "nbformat": 4,
  "nbformat_minor": 0,
  "metadata": {
    "colab": {
      "name": "Untitled6.ipynb",
      "provenance": [],
      "authorship_tag": "ABX9TyM21kcNxGoaVH9jWuNSr7eJ",
      "include_colab_link": true
    },
    "kernelspec": {
      "name": "python3",
      "display_name": "Python 3"
    },
    "language_info": {
      "name": "python"
    }
  },
  "cells": [
    {
      "cell_type": "markdown",
      "metadata": {
        "id": "view-in-github",
        "colab_type": "text"
      },
      "source": [
        "<a href=\"https://colab.research.google.com/github/maullindaaa/M1P2V2_Variabel_dan_Tipe_Data/blob/main/Untitled6.ipynb\" target=\"_parent\"><img src=\"https://colab.research.google.com/assets/colab-badge.svg\" alt=\"Open In Colab\"/></a>"
      ]
    },
    {
      "cell_type": "markdown",
      "metadata": {
        "id": "dGx9pbowSoSx"
      },
      "source": [
        "#Variabel & Tipe Data"
      ]
    },
    {
      "cell_type": "markdown",
      "metadata": {
        "id": "dAWFfTy9SwWi"
      },
      "source": [
        "#Variabel\n",
        "variabels: Lokasi penyimpanan yang dapat digunakan untuk menampung sebuah data atau informasi\n",
        "Syarat-syarat penamaan variabel\n",
        "1. Karakter-karakter yang digunakan untuk penaman variabel adalah alphabet, angka dan underscore\n",
        "2. Karakter pertama variabel harus berupa huruf atau garis bawah/underscore, dan tidak berupa angka.\n",
        "3. Nama sebuah variabel tidak bisa menggunakan keyword atau reserved words dari bahasa python seperti for,if, dan lainnya\n",
        "4. Karakter pada nama variabel bersifat sensitif(care-sensitif)."
      ]
    },
    {
      "cell_type": "code",
      "metadata": {
        "id": "fa7BbrksUBj0"
      },
      "source": [
        "# membuat variabel \n",
        "kalimat = 'ini adalah variabel'\n",
        "bilangan1 = 4\n",
        "bilangan2 = 2.5\n",
        "bilangan3 = True\n",
        "bilangan4 = 1j + 4"
      ],
      "execution_count": null,
      "outputs": []
    },
    {
      "cell_type": "code",
      "metadata": {
        "colab": {
          "base_uri": "https://localhost:8080/"
        },
        "id": "r9nLZXDyU7wm",
        "outputId": "b1b1ed8b-ad96-41ae-ec1e-b8451d34b973"
      },
      "source": [
        "# Menampilkan variabel\n",
        "print(kalimat)\n",
        "print(bilangan1)\n",
        "print(bilangan2)\n"
      ],
      "execution_count": null,
      "outputs": [
        {
          "output_type": "stream",
          "name": "stdout",
          "text": [
            "ini adalah variabel\n",
            "4\n",
            "2.5\n"
          ]
        }
      ]
    },
    {
      "cell_type": "markdown",
      "metadata": {
        "id": "YoTNCQQIT_0C"
      },
      "source": [
        "Latihan 1"
      ]
    },
    {
      "cell_type": "code",
      "metadata": {
        "id": "y-l3y25pVQv-",
        "colab": {
          "base_uri": "https://localhost:8080/"
        },
        "outputId": "7cd57f5e-ed8b-4e62-c889-e4f7fcb90080"
      },
      "source": [
        "# buatlah 5 variabel kalian sendiri dengan 5 macam tipe data\n",
        "# lalu tampilkan variabel menggunakan fungsi print\n",
        "\n",
        "#JAWABAN\n",
        "text = 'semangat'\n",
        "x = 4\n",
        "y = 2j+3\n",
        "nilai_a = 4.88\n",
        "nilai = False\n",
        "\n",
        "# Menampilkan  variabel \n",
        "print(x)\n",
        "print(nilai_a)\n",
        "print(nilai)\n",
        "print(y)\n",
        "print(text)"
      ],
      "execution_count": null,
      "outputs": [
        {
          "output_type": "stream",
          "name": "stdout",
          "text": [
            "4\n",
            "4.88\n",
            "False\n",
            "(3+2j)\n",
            "semangat\n"
          ]
        }
      ]
    },
    {
      "cell_type": "markdown",
      "metadata": {
        "id": "Nfkf1lIOVhFC"
      },
      "source": [
        "#Tipe Data\n",
        "5 tipe data yaitu\n",
        "1. Integer atau bilangan bulat\n",
        "2. Float atau bilangan desimal\n",
        "3. String atau kalimat\n",
        "4. Boolen yang terdiri dari True dan False\n",
        "5. Complex yang merupakan bilangan kompleks"
      ]
    },
    {
      "cell_type": "code",
      "metadata": {
        "colab": {
          "base_uri": "https://localhost:8080/"
        },
        "id": "cnCs4aF9V4Jo",
        "outputId": "903829e0-fa65-4d63-b12e-da5870762fb8"
      },
      "source": [
        "# menampilkan tipe data\n",
        "print(type(kalimat))\n",
        "print(type(bilangan1))\n",
        "print(type(bilangan2))\n",
        "print(type(bilangan3))\n",
        "print(type(bilangan4))"
      ],
      "execution_count": null,
      "outputs": [
        {
          "output_type": "stream",
          "name": "stdout",
          "text": [
            "<class 'str'>\n",
            "<class 'int'>\n",
            "<class 'float'>\n",
            "<class 'bool'>\n",
            "<class 'complex'>\n"
          ]
        }
      ]
    },
    {
      "cell_type": "markdown",
      "metadata": {
        "id": "tRCKZr0-WROA"
      },
      "source": [
        "Latihan 2"
      ]
    },
    {
      "cell_type": "code",
      "metadata": {
        "id": "aL6zo3gMWTRD",
        "colab": {
          "base_uri": "https://localhost:8080/"
        },
        "outputId": "51f049ed-8b04-4e27-b710-4d8d7e27c8e2"
      },
      "source": [
        "# cek tipe data variabel yang telah kalian buat pada latihan 1\n",
        "\n",
        "#JAWABAN\n",
        "print(type(text))\n",
        "print(type(x))\n",
        "print(type(y))\n",
        "print(type(nilai_a))\n",
        "print(type(nilai))"
      ],
      "execution_count": null,
      "outputs": [
        {
          "output_type": "stream",
          "name": "stdout",
          "text": [
            "<class 'str'>\n",
            "<class 'int'>\n",
            "<class 'complex'>\n",
            "<class 'float'>\n",
            "<class 'bool'>\n"
          ]
        }
      ]
    },
    {
      "cell_type": "markdown",
      "metadata": {
        "id": "9SuBOJVkWdxd"
      },
      "source": [
        "#Konversi Tipe Data"
      ]
    },
    {
      "cell_type": "markdown",
      "metadata": {
        "id": "fudWYpNrWiS_"
      },
      "source": [
        "Syntax Konversi tipe data\n",
        "1. integer = int()\n",
        "2. Float = float()\n",
        "3. String = str()\n",
        "4. Boolean = bool()\n",
        "5. Complex = Complex()"
      ]
    },
    {
      "cell_type": "code",
      "metadata": {
        "id": "AFBUmwfRW8Wn",
        "colab": {
          "base_uri": "https://localhost:8080/"
        },
        "outputId": "cad677cf-d730-40be-ded3-9cf759aa1d6c"
      },
      "source": [
        "# konversi tipe data integer\n",
        "print(int(bilangan2))\n",
        "print(int(bilangan3))"
      ],
      "execution_count": null,
      "outputs": [
        {
          "output_type": "stream",
          "name": "stdout",
          "text": [
            "2\n",
            "1\n"
          ]
        }
      ]
    },
    {
      "cell_type": "code",
      "metadata": {
        "id": "RCsIV-6oXHee"
      },
      "source": [
        "# konversi tipe data float\n",
        "print(float(bilangan1))\n",
        "print(float(bilangan3))"
      ],
      "execution_count": null,
      "outputs": []
    },
    {
      "cell_type": "code",
      "metadata": {
        "id": "gSw4qPL0XWpi"
      },
      "source": [
        "# konversi tipe data string\n",
        "print(str(bilangan1))\n",
        "print(str(bilangan2))\n",
        "print(str(bilangan3))"
      ],
      "execution_count": null,
      "outputs": []
    },
    {
      "cell_type": "code",
      "metadata": {
        "id": "mT1uKBayXnA8"
      },
      "source": [
        "# konversi tipe data bool\n",
        "print(bool(bilangan1))\n",
        "print(bool(bilangan2))"
      ],
      "execution_count": null,
      "outputs": []
    },
    {
      "cell_type": "code",
      "metadata": {
        "colab": {
          "base_uri": "https://localhost:8080/"
        },
        "id": "6kysbAVZXzav",
        "outputId": "2da1cba6-d5ca-434f-f9be-bb99f5d21a41"
      },
      "source": [
        "# konversi tipe data complex\n",
        "print(complex(bilangan1))\n",
        "print(complex(bilangan1))\n",
        "print(complex(bilangan3))"
      ],
      "execution_count": null,
      "outputs": [
        {
          "output_type": "stream",
          "name": "stdout",
          "text": [
            "(4+0j)\n",
            "(4+0j)\n",
            "(1+0j)\n"
          ]
        }
      ]
    },
    {
      "cell_type": "markdown",
      "metadata": {
        "id": "QqBxYbjIYA9f"
      },
      "source": [
        "Latihan 3"
      ]
    },
    {
      "cell_type": "code",
      "metadata": {
        "id": "AssGI29MYDhB",
        "colab": {
          "base_uri": "https://localhost:8080/"
        },
        "outputId": "bf5b05bf-2f6e-49c2-8d93-6a314de1ec2a"
      },
      "source": [
        "# konversi tipe data variabel yang telah kalian buat\n",
        "# menjadi berbagai macam tipe data\n",
        "\n",
        "#JAWABAN\n",
        "#Konversi tipe data integer\n",
        "print(int(x))\n",
        "print(int(nilai_a))\n",
        "print(int(nilai))\n",
        "\n",
        "#konversi tipe data float\n",
        "print(float(x))\n",
        "print(float(nilai_a))\n",
        "print(float(nilai))\n",
        "\n",
        "#konversi tipe data string\n",
        "print(str(text))\n",
        "print(str(x))\n",
        "print(str(y))\n",
        "print(str(nilai_a))\n",
        "print(str(nilai))\n",
        "\n",
        "#konversi tipe data bool\n",
        "print(bool(text))\n",
        "print(bool(x))\n",
        "print(bool(y))\n",
        "print(bool(nilai_a))\n",
        "print(bool(nilai))\n",
        "\n",
        "#konversi tipe data complex\n",
        "print(complex(x))\n",
        "print(complex(y))\n",
        "print(complex(nilai_a))\n",
        "print(complex(nilai))"
      ],
      "execution_count": null,
      "outputs": [
        {
          "output_type": "stream",
          "name": "stdout",
          "text": [
            "4\n",
            "4\n",
            "0\n",
            "4.0\n",
            "4.88\n",
            "0.0\n",
            "semangat\n",
            "4\n",
            "(3+2j)\n",
            "4.88\n",
            "False\n",
            "True\n",
            "True\n",
            "True\n",
            "True\n",
            "False\n",
            "(4+0j)\n",
            "(3+2j)\n",
            "(4.88+0j)\n",
            "0j\n"
          ]
        }
      ]
    }
  ]
}